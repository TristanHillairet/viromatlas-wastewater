{
 "cells": [
  {
   "cell_type": "code",
   "execution_count": null,
   "metadata": {},
   "outputs": [],
   "source": [
    "# Ouverture du fichier des écorégions\n",
    "t1 = time.time()\n",
    "try:\n",
    "\n",
    "    biomes = gpd.read_file(\"/Users/tpietav/Desktop/data/raw/Ecoregions2017.zip\")\n",
    "    biomes_spatial_index = biomes.sindex\n",
    "\n",
    "    biomes_dic = {\n",
    "        0:\"Water surface\",\n",
    "        1:\"Tropical and subtropical moist broadleaf forests\",\n",
    "        2:\"Tropical and subtropical dry broadleaf forests\",\n",
    "        3:\"Tropical and subtropical coniferous forests\",\n",
    "        4:\"Temperate broadleaf and mixed forests\",\n",
    "        5:\"Temperate conifer forests\",\n",
    "        6:\"Boreal forests or taiga\",\n",
    "        7:\"Tropical and subtropical grasslands, savannas, and shrublands\",\n",
    "        8:\"Temperate grasslands, savannas, and shrublands\",\n",
    "        9:\"Flooded Grasslands and Savannas\",\n",
    "        10:\"Montane grasslands and shrublands\",\n",
    "        11:\"Tundra\",\n",
    "        12:\"Mediterranean forests, woodlands, and scrub\",\n",
    "        13:\"Deserts and xeric shrublands\",\n",
    "        14:\"Mangroves\"\n",
    "    }\n",
    "\n",
    "    t2 = time.time()\n",
    "    t  = np.round(t2 - t1,decimals=1)\n",
    "    graph.print_cell_msg(\"Ouverture du fichier des écorégions réussie\",time=t,error=False)\n",
    "\n",
    "except Exception as e:\n",
    "\n",
    "    t2 = time.time()\n",
    "    t  = np.round(t2 - t1,decimals=1)\n",
    "    graph.print_cell_msg(\"Erreur d'ouverture du fichier des écorégions\",time=t,error_type=e)"
   ]
  },
  {
   "cell_type": "code",
   "execution_count": null,
   "metadata": {},
   "outputs": [],
   "source": [
    "# HELPER FUNCTIONS\n",
    "\n",
    "def get_ecoregion_infos(longitude,latitude):\n",
    "    \"\"\"return ecoregions infos of the point\n",
    "\n",
    "    Args:\n",
    "        longitude (float): longitude of the point\n",
    "        latitude (float): latitude if the point\n",
    "\n",
    "    Returns:\n",
    "        dic: dictionary of ecoregions infos biome_num,ecoregion_id,ecoregion_name\n",
    "    \"\"\"\n",
    "    point = Point(longitude,latitude)\n",
    "    try:\n",
    "        possible_matches_index = list(biomes_spatial_index.intersection(point.bounds))\n",
    "        possible_matches = biomes.iloc[possible_matches_index]\n",
    "        ecoregion = possible_matches[possible_matches.contains(point)].iloc[0]\n",
    "        biome_num = ecoregion['BIOME_NUM']\n",
    "        ecoregion_id = ecoregion['ECO_ID']\n",
    "        ecoregion_name = ecoregion['ECO_NAME']\n",
    "        return {\"biome_num\":biome_num,\"ecoregion_id\":ecoregion_id,\"ecoregion_name\":ecoregion_name}\n",
    "    except:\n",
    "        return {\"biome_num\":0,\"ecoregion_id\":None,\"ecoregion_name\":\"Ocean, Sea, Lake\"}"
   ]
  }
 ],
 "metadata": {
  "kernelspec": {
   "display_name": "Python 3",
   "language": "python",
   "name": "python3"
  },
  "language_info": {
   "name": "python",
   "version": "3.9.6"
  }
 },
 "nbformat": 4,
 "nbformat_minor": 2
}
