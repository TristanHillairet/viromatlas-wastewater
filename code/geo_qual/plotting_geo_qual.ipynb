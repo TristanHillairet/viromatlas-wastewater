{
 "cells": [
  {
   "cell_type": "code",
   "execution_count": 2,
   "metadata": {},
   "outputs": [],
   "source": [
    "################\n",
    "# IMPORTATIONS #\n",
    "################\n",
    "\n",
    "#\n",
    "# System importations\n",
    "#\n",
    "\n",
    "import sys\n",
    "import time\n",
    "\n",
    "#\n",
    "# Data management importations\n",
    "#\n",
    "\n",
    "import pandas as pd\n",
    "from pyarrow import fs\n",
    "\n",
    "#\n",
    "# Maths importations\n",
    "#\n",
    "\n",
    "import numpy as np\n",
    "\n",
    "#\n",
    "# Personal importations\n",
    "#\n",
    "\n",
    "sys.path.append('../representations')\n",
    "import graph_lib as g"
   ]
  },
  {
   "cell_type": "code",
   "execution_count": 5,
   "metadata": {},
   "outputs": [
    {
     "name": "stdout",
     "output_type": "stream",
     "text": [
      "\u001b[92m#[237.4s]---Ouverture à distance réussie\u001b[0m\n"
     ]
    }
   ],
   "source": [
    "# Ouverture des métadonnées\n",
    "\n",
    "t1 = time.time()\n",
    "\n",
    "try:\n",
    "    \n",
    "    s3fs = fs.S3FileSystem(\n",
    "        endpoint_override=\"localhost:9000\",\n",
    "        access_key=\"lbIwWP4FIBtjBwU5AaI0\",\n",
    "        secret_key=\"nw54mjkG3CjxjvkyqxACTbYOuhtzyc1YmkMaJXeL\",\n",
    "        scheme=\"http\"\n",
    "    )\n",
    "    df = pd.read_parquet('geo-sra/geo-sra.parquet.gzip',filesystem=s3fs)\n",
    "\n",
    "    t2 = time.time()\n",
    "    t  = np.round(t2 - t1,decimals=1)\n",
    "    g.print_cell_msg(\"Ouverture à distance réussie\",time=t,error=False)\n",
    "\n",
    "except Exception as e:\n",
    "\n",
    "    t2 = time.time()\n",
    "    t  = np.round(t2 - t1,decimals=1)\n",
    "    g.print_cell_msg(\"Erreur d'ouverture à distance\",time=t,error_type=e)\n",
    "\n",
    "    try:\n",
    "\n",
    "        df = pd.read_parquet(\"/Users/tpietav/Desktop/data/raw/sra_metadata_toy.parquet\")\n",
    "\n",
    "        t2 = time.time()\n",
    "        t  = np.round(t2 - t1,decimals=1)\n",
    "        g.print_cell_msg(\"Ouverture locale réussie\",time=t,error=False)\n",
    "    \n",
    "    except Exception as e_local:\n",
    "\n",
    "        t2 = time.time()\n",
    "        t  = np.round(t2 - t1,decimals=1)\n",
    "        g.print_cell_msg(\"Erreur d'ouverture locale\",time=t,error_type=e_local)"
   ]
  },
  {
   "cell_type": "code",
   "execution_count": 8,
   "metadata": {},
   "outputs": [
    {
     "data": {
      "text/plain": [
       "30449959"
      ]
     },
     "execution_count": 8,
     "metadata": {},
     "output_type": "execute_result"
    }
   ],
   "source": [
    "len(df)"
   ]
  }
 ],
 "metadata": {
  "kernelspec": {
   "display_name": "Python 3",
   "language": "python",
   "name": "python3"
  },
  "language_info": {
   "codemirror_mode": {
    "name": "ipython",
    "version": 3
   },
   "file_extension": ".py",
   "mimetype": "text/x-python",
   "name": "python",
   "nbconvert_exporter": "python",
   "pygments_lexer": "ipython3",
   "version": "3.9.6"
  }
 },
 "nbformat": 4,
 "nbformat_minor": 2
}
