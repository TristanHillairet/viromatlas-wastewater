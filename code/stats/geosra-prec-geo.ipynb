{
 "cells": [
  {
   "cell_type": "code",
   "execution_count": null,
   "metadata": {},
   "outputs": [],
   "source": [
    "# Librairies & paramètres\n",
    "import numpy as np\n",
    "import pandas as pd\n",
    "import geopandas as gpd\n",
    "import os\n",
    "import plotly.express as px\n",
    "import plotly.graph_objects as go\n",
    "\n",
    "chemin_actuel = os.getcwd()\n",
    "dossier_parent = os.path.abspath(os.path.join(chemin_actuel, os.pardir))\n",
    "dossier_parent = os.path.abspath(os.path.join(dossier_parent, os.pardir))\n",
    "\n",
    "param = {\n",
    "\n",
    "    # Direction vers lmes fichiers SRA\n",
    "    \"GeoSRA DIR IN\" :dossier_parent+\"/data/raw/geo-sra-ecological.parquet.gzip\",\n",
    "    \"GeoSRA DIR OUT\":dossier_parent+\"/data/processed/geosra_coordprec.parquet.gzip\",\n",
    "    \"Country DIR\"   :'naturalearth_lowres',\n",
    "    \n",
    "    # Seuil minimal de précision des coordonées\n",
    "    \"Seuil LonLatAc\":2,\n",
    "\n",
    "    # Taille des figures\n",
    "    \"Width Figure\"  :800,\n",
    "    \"Height Figure\" :600,\n",
    "\n",
    "    # Couleurs\n",
    "    \"Georef Color\"  :{\n",
    "                    \"(?)\"        :'lightgrey',\n",
    "                    \"Has LonLat\" : 'lightgreen',\n",
    "                    \"Has Country\": 'yellow',\n",
    "                    \"NR\"         : 'lightcoral'\n",
    "    },\n",
    "\n",
    "    \"Binary Color\"  :{\n",
    "                    \"(?)\"  :'lightgrey',\n",
    "                    \"True\" :'lightcoral',\n",
    "                    \"False\":\"lightgreen\"\n",
    "    }\n",
    "\n",
    "}"
   ]
  },
  {
   "cell_type": "code",
   "execution_count": null,
   "metadata": {},
   "outputs": [],
   "source": [
    "# Ouverture des fichiers\n",
    "geosra_pd = pd.read_parquet(param[\"GeoSRA DIR IN\"])\n",
    "file = gpd.datasets.get_path(param[\"Country DIR\"])\n",
    "countries = gpd.read_file(file)\n",
    "geosra_pd.head()"
   ]
  },
  {
   "cell_type": "code",
   "execution_count": null,
   "metadata": {},
   "outputs": [],
   "source": [
    "# Création de la colonne release_year et Histogramme par années\n",
    "geosra_pd[\"release_year\"] = geosra_pd[\"releasedate\"].dt.year\n",
    "\n",
    "fig = px.histogram(geosra_pd, x=\"release_year\") \n",
    "fig.update_layout(\n",
    "    width=param[\"Width Figure\"],\n",
    "    height=param[\"Height Figure\"]\n",
    ")            \n",
    "fig.show()"
   ]
  },
  {
   "cell_type": "code",
   "execution_count": null,
   "metadata": {},
   "outputs": [],
   "source": [
    "# Répartition des types de géoréférencement par années\n",
    "\n",
    "df = geosra_pd[[\"release_year\",\"has_latlon\",\"geo_loc_name_country_calc\",\"rg_country\"]]\n",
    "df[\"georef\"] = 'NR'\n",
    "df.loc[df[\"has_latlon\"] == True, \"georef\"] = 'Has LonLat'\n",
    "df.loc[((df[\"geo_loc_name_country_calc\"].notnull()) | (df[\"rg_country\"] != '') & df[\"has_latlon\"] == False), \"georef\"] = 'Has Country'\n",
    "\n",
    "fig = px.histogram(df, x=\"release_year\", color=\"georef\",\n",
    "                color_discrete_map=param[\"Georef Color\"]) \n",
    "fig.update_layout(\n",
    "    width=param[\"Width Figure\"],\n",
    "    height=param[\"Height Figure\"]\n",
    ")            \n",
    "fig.show()    "
   ]
  },
  {
   "cell_type": "code",
   "execution_count": null,
   "metadata": {},
   "outputs": [],
   "source": [
    "# Répartition de la précision des coorodnées\n",
    "def nombre_decimales(nombre):\n",
    "    if nombre == np.NaN:\n",
    "        return np.NaN\n",
    "    chaine = str(nombre)\n",
    "    index_point = chaine.find('.')\n",
    "    if index_point == -1:\n",
    "        return np.NaN\n",
    "    return len(chaine) - index_point - 1\n",
    "geosra_pd[\"latitude_precision\"] = geosra_pd[\"latitude\"].apply(nombre_decimales)\n",
    "geosra_pd[\"longitude_precision\"] = geosra_pd[\"longitude\"].apply(nombre_decimales)\n",
    "\n",
    "df = geosra_pd[[\"longitude_precision\",\"latitude_precision\"]]\n",
    "fig = go.Figure()\n",
    "fig.add_trace(go.Box(y=np.array(df[\"longitude_precision\"]), boxmean='sd', boxpoints=False, name=\"Longitude Precision\"))\n",
    "fig.add_trace(go.Box(y=np.array(df[\"latitude_precision\"]), boxmean='sd', boxpoints=False, name=\"Latitude Precision\"))\n",
    "fig.update_layout(\n",
    "    width=param[\"Width Figure\"],\n",
    "    height=param[\"Height Figure\"]\n",
    ")   \n",
    "fig.show()"
   ]
  },
  {
   "cell_type": "code",
   "execution_count": null,
   "metadata": {},
   "outputs": [],
   "source": [
    "# Calcul des imprécisions par années\n",
    "thr = param[\"Seuil LonLatAc\"]\n",
    "df = geosra_pd[[\"release_year\",\"latitude_precision\",\"longitude_precision\"]]\n",
    "df[\"imprécis\"] = 'False'\n",
    "df.loc[(df[\"latitude_precision\"] <= thr) | (df[\"longitude_precision\"] <= thr), \"imprécis\"] = 'True'\n",
    "fig = px.histogram(df, x=\"release_year\", color=\"imprécis\",\n",
    "                color_discrete_map=param[\"Binary Color\"]) \n",
    "fig.update_layout(\n",
    "    width=param[\"Width Figure\"],\n",
    "    height=param[\"Height Figure\"]\n",
    ")            \n",
    "fig.show()"
   ]
  },
  {
   "cell_type": "code",
   "execution_count": null,
   "metadata": {},
   "outputs": [],
   "source": [
    "# Enregistrement des données potentiellement exploitables\n",
    "geosra_pd.to_parquet(param[\"GeoSRA DIR OUT\"])"
   ]
  }
 ],
 "metadata": {
  "kernelspec": {
   "display_name": "Python 3",
   "language": "python",
   "name": "python3"
  },
  "language_info": {
   "codemirror_mode": {
    "name": "ipython",
    "version": 3
   },
   "file_extension": ".py",
   "mimetype": "text/x-python",
   "name": "python",
   "nbconvert_exporter": "python",
   "pygments_lexer": "ipython3",
   "version": "3.9.6"
  }
 },
 "nbformat": 4,
 "nbformat_minor": 2
}
