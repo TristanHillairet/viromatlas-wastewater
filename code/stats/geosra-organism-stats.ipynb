{
 "cells": [
  {
   "cell_type": "code",
   "execution_count": null,
   "metadata": {},
   "outputs": [],
   "source": [
    "# Librairie & paramètres\n",
    "import pandas as pd\n",
    "import matplotlib.pyplot as plt\n",
    "import numpy as np\n",
    "import os\n",
    "import plotly.express as px\n",
    "from scipy.cluster import hierarchy\n",
    "import spacy\n",
    "\n",
    "import sys\n",
    "sys.path.append('../representations')\n",
    "import graph_lib as graph\n",
    "\n",
    "chemin_actuel = os.getcwd()\n",
    "dossier_parent = os.path.abspath(os.path.join(chemin_actuel, os.pardir))\n",
    "dossier_parent = os.path.abspath(os.path.join(dossier_parent, os.pardir))\n",
    "dossier_parent = os.path.abspath(os.path.join(dossier_parent, os.pardir))\n",
    "\n",
    "param = {\n",
    "\n",
    "    # Direction vers les fichiers GeoSRA\n",
    "    \"GeoSRA DIR IN\" :dossier_parent+\"/data/raw/geo-sra-ecological.parquet.gzip\",\n",
    "    \"GeoSRA DIR OUT\":dossier_parent+\"/data/processed/geosra_cluster.parquet.gzip\",\n",
    "\n",
    "    # Taille des figures\n",
    "    \"Width Figure\"  :800,\n",
    "    \"Height Figure\" :600,\n",
    "\n",
    "    # Seuils pour les fonctions de répartition et le dendogramme\n",
    "    \"Repart Thr\"    :0.95,\n",
    "    \"Semant Thr\"    :3.5,\n",
    " \n",
    "    # Classe d'assay type principales\n",
    "    \"Assay Class\"   :['AMPLICON','WGS','RNA-Seq','WGA'],\n",
    "\n",
    "    # Couleurs\n",
    "\n",
    "}"
   ]
  },
  {
   "cell_type": "code",
   "execution_count": null,
   "metadata": {},
   "outputs": [],
   "source": [
    "# Ouvre GeoSRA et affiche les colonnes\n",
    "geosra_pd = pd.read_parquet(param[\"GeoSRA DIR IN\"])\n",
    "geosra_pd.head()"
   ]
  },
  {
   "cell_type": "code",
   "execution_count": null,
   "metadata": {},
   "outputs": [],
   "source": [
    "# TreeMap organism\n",
    "df_treemap = geosra_pd[[\"organism\"]]\n",
    "df_treemap.loc[df_treemap[\"organism\"] == '','organism'] = 'Unspecified'\n",
    "graph.TreeMap(geosra_pd,'organism')"
   ]
  },
  {
   "cell_type": "code",
   "execution_count": null,
   "metadata": {},
   "outputs": [],
   "source": [
    "# Repartition Function organism\n",
    "thr = graph.RepartitionFunction(geosra_pd,'organism',y_thr=param['Repart Thr'])"
   ]
  },
  {
   "cell_type": "code",
   "execution_count": null,
   "metadata": {},
   "outputs": [],
   "source": [
    "# Dendogramme (Sémantique) des principales valeurs de organism\n",
    "value_count = dict(geosra_pd[\"organism\"].value_counts())\n",
    "chains = list(value_count.keys())[:thr]\n",
    "chains = [chain.replace('metagenome', '') for chain in chains]\n",
    "\n",
    "nlp = spacy.load(\"en_core_web_md\")\n",
    "dist_matrix = np.zeros((len(chains), len(chains)))\n",
    "for i in range(len(chains)):\n",
    "    for j in range(len(chains)):\n",
    "        dist_matrix[i, j] = nlp(chains[i]).similarity(nlp(chains[j]))\n",
    "Z = hierarchy.linkage(dist_matrix, method='ward')\n",
    "\n",
    "\n",
    "plt.figure(figsize=(10, 5))\n",
    "dn = hierarchy.dendrogram(Z, labels=chains, color_threshold=param[\"Semant Thr\"])\n",
    "plt.xticks(rotation='vertical')\n",
    "plt.ylabel('Semantix distance')\n",
    "plt.show()"
   ]
  },
  {
   "cell_type": "code",
   "execution_count": null,
   "metadata": {},
   "outputs": [],
   "source": [
    "# Histogramme des clusters\n",
    "keys = [key+'metagenome' for key in dn['ivl']]\n",
    "class_dict = dict(zip(keys,dn[\"leaves_color_list\"]))\n",
    "geosra_pd[\"cluster_organism\"] = geosra_pd[\"organism\"].map(class_dict)\n",
    "geosra_pd[\"cluster_organism\"] = geosra_pd[\"cluster_organism\"].fillna('NC')\n",
    "\n",
    "idxs = geosra_pd[~geosra_pd['assay_type'].isin(param[\"Assay Class\"])].index\n",
    "geosra_pd.loc[idxs,\"assay_type\"] = 'OTHER'\n",
    "\n",
    "df = geosra_pd[[\"cluster_organism\",\"assay_type\"]]\n",
    "\n",
    "graph.Histogram(df,'cluster_organism',color_col='assay_type')"
   ]
  },
  {
   "cell_type": "code",
   "execution_count": null,
   "metadata": {},
   "outputs": [],
   "source": [
    "graph.TreeMap(geosra_pd,'organism',parent_col='cluster_organism',r_lim=(200,250),g_lim=(200,250),b_lim=(200,250))"
   ]
  },
  {
   "cell_type": "code",
   "execution_count": null,
   "metadata": {},
   "outputs": [],
   "source": [
    "# Enregistrement des données avec release_year et cluster_organism\n",
    "geosra_pd.to_parquet(param[\"GeoSRA DIR OUT\"])"
   ]
  }
 ],
 "metadata": {
  "kernelspec": {
   "display_name": "ML",
   "language": "python",
   "name": "python3"
  },
  "language_info": {
   "codemirror_mode": {
    "name": "ipython",
    "version": 3
   },
   "file_extension": ".py",
   "mimetype": "text/x-python",
   "name": "python",
   "nbconvert_exporter": "python",
   "pygments_lexer": "ipython3",
   "version": "3.9.6"
  }
 },
 "nbformat": 4,
 "nbformat_minor": 2
}
