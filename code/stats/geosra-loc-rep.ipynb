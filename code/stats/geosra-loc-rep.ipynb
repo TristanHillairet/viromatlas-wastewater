{
 "cells": [
  {
   "cell_type": "code",
   "execution_count": null,
   "metadata": {},
   "outputs": [],
   "source": [
    "# Librairies & paramètres\n",
    "import numpy as np\n",
    "import pandas as pd\n",
    "import os\n",
    "import plotly.express as px\n",
    "import plotly.graph_objects as go\n",
    "import geopandas as gpd\n",
    "\n",
    "chemin_actuel = os.getcwd()\n",
    "dossier_parent = os.path.abspath(os.path.join(chemin_actuel, os.pardir))\n",
    "dossier_parent = os.path.abspath(os.path.join(dossier_parent, os.pardir))\n",
    "\n",
    "param = {\n",
    "\n",
    "    # Direction vers lmes fichiers SRA\n",
    "    \"GeoSRA DIR IN1\":dossier_parent+\"/data/processed/geosra_cluster.parquet.gzip\",\n",
    "    \"GeoSRA DIR IN2\":dossier_parent+\"/data/processed/geosra_eval.parquet.gzip\",\n",
    "    \"GeoSRA DIR OUT\":dossier_parent+\"/data/processed/geosra.parquet.gzip\",\n",
    "    \"Country DIR\"   :\"naturalearth_lowres\",\n",
    "\n",
    "    # Taille des figures\n",
    "    \"Width Figure\"  :1000,\n",
    "    \"Height Figure\" :600,\n",
    "\n",
    "    # Cluster\n",
    "    \"Cluster\"       :\"C5\",\n",
    "\n",
    "}"
   ]
  },
  {
   "cell_type": "code",
   "execution_count": null,
   "metadata": {},
   "outputs": [],
   "source": [
    "# Ouverture des fichiers\n",
    "geosra_cluster = pd.read_parquet(param[\"GeoSRA DIR IN1\"])\n",
    "geosra_eval    = pd.read_parquet(param[\"GeoSRA DIR IN2\"])\n",
    "df1 = geosra_cluster[[\"bioproject\",\n",
    "                    \"acc\",\n",
    "                    \"organism\",\n",
    "                    \"cluster_organism\",\n",
    "                    \"assay_type\"]]\n",
    "df2 = geosra_eval[[\"acc\",\n",
    "                    \"releasedate\",\n",
    "                    \"release_year\",\n",
    "                    \"longitude\",\n",
    "                    \"latitude\",\n",
    "                    \"longitude_precision\",\n",
    "                    \"latitude_precision\",\n",
    "                    \"rg_city\",\n",
    "                    \"rg_country\",\n",
    "                    \"gc_continent\",\n",
    "                    \"eval_data\"]]\n",
    "geosra_pd = pd.merge(df1, df2, on=\"acc\", how=\"inner\")\n",
    "geosea_pd.head()"
   ]
  },
  {
   "cell_type": "code",
   "execution_count": null,
   "metadata": {},
   "outputs": [],
   "source": [
    "# Carte par clusters\n",
    "condition = (geosra_pd[\"eval_data\"] == 'Utilisable') & (geosra_pd[\"cluster_organism\"] == param['Cluster'])\n",
    "df = geosra_pd[['longitude','latitude','organism']][condition].sample(n=10000)\n",
    "df['id'] = df.index\n",
    "fig = px.scatter_geo(df, \n",
    "                     lat=df['latitude'], \n",
    "                     lon=df['longitude'],\n",
    "                     color=\"organism\"\n",
    ")\n",
    "fig.update_geos(\n",
    "    visible=True, resolution=50,\n",
    "    showcountries=True, countrycolor=\"dimgray\"\n",
    ")\n",
    "fig.update_geos(projection_type=\"natural earth\")\n",
    "fig.update_layout(margin={\"r\":0,\"t\":0,\"l\":0,\"b\":0})\n",
    "fig.update_layout(\n",
    "    width=param[\"Width Figure\"],\n",
    "    height=param[\"Height Figure\"]\n",
    ")\n",
    "fig.show()"
   ]
  }
 ],
 "metadata": {
  "kernelspec": {
   "display_name": "Python 3",
   "language": "python",
   "name": "python3"
  },
  "language_info": {
   "codemirror_mode": {
    "name": "ipython",
    "version": 3
   },
   "file_extension": ".py",
   "mimetype": "text/x-python",
   "name": "python",
   "nbconvert_exporter": "python",
   "pygments_lexer": "ipython3",
   "version": "3.9.6"
  }
 },
 "nbformat": 4,
 "nbformat_minor": 2
}
